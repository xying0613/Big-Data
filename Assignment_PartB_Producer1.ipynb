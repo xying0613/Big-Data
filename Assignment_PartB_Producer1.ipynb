{
 "cells": [
  {
   "cell_type": "markdown",
   "metadata": {},
   "source": [
    "Name: Haw Xiao Ying <br>Student ID: 29797918 <br>Email: xhaw0001@student.monash.edu"
   ]
  },
  {
   "cell_type": "markdown",
   "metadata": {},
   "source": [
    "# Assignment Part B"
   ]
  },
  {
   "cell_type": "markdown",
   "metadata": {},
   "source": [
    "## Task 1(a)"
   ]
  },
  {
   "cell_type": "code",
   "execution_count": null,
   "metadata": {},
   "outputs": [],
   "source": [
    "from pymongo import MongoClient\n",
    "from pprint import pprint\n",
    "import pandas as pd\n",
    "\n",
    "\n",
    "client = MongoClient()\n",
    "db = client.fit3182_assignment_db\n",
    "climate = db.climate_historic\n",
    "\n",
    "cursor = db.climate.find().sort(\"date\",-1).limit(1)\n",
    "\n",
    "date = pd.to_datetime(cursor[0]['date'])\n",
    "\n",
    "print(\"The latest date in climate historic is\", cursor[0]['date'], \", according to data below:\")\n",
    "for i in cursor:\n",
    "    pprint(i)"
   ]
  },
  {
   "cell_type": "code",
   "execution_count": null,
   "metadata": {},
   "outputs": [],
   "source": [
    "from time import sleep\n",
    "from json import dumps\n",
    "from kafka import KafkaProducer\n",
    "import random, csv\n",
    "import datetime as dt\n",
    "\n",
    " \n",
    "def publish_message(producer_instance, topic_name, data):\n",
    "    try:\n",
    "        key_bytes = bytes(\"producer_1\", encoding='utf-8')\n",
    "        value_bytes = bytes(data, encoding='utf-8')\n",
    "        producer_instance.send(topic_name, value=value_bytes, key=key_bytes)\n",
    "        print('Message published successfully. ' + data)\n",
    "    except Exception as ex:\n",
    "        print('Exception in publishing message.')\n",
    "        print(str(ex))\n",
    "        \n",
    "\n",
    "        \n",
    "def connect_kafka_producer():\n",
    "    _producer = None\n",
    "    try:\n",
    "        _producer = KafkaProducer(bootstrap_servers=['127.0.0.1:9092'], api_version=(0, 10))\n",
    "    except Exception as ex:\n",
    "        print('Exception while connecting Kafka.')\n",
    "        print(str(ex))\n",
    "    finally:\n",
    "        return _producer\n",
    "    \n",
    "\n",
    "    \n",
    "if __name__ == '__main__':\n",
    "   \n",
    "    topic = 'assignment'\n",
    "    print('Publishing records..')\n",
    "    producer = connect_kafka_producer()\n",
    "            \n",
    "    list_of_climate = []\n",
    "    \n",
    "    climate_streaming_filepath = '/home/student/Downloads/Assignment/climate_streaming.csv'\n",
    "    with open(climate_streaming_filepath) as file:\n",
    "        climate_csv = csv.DictReader(file)\n",
    "        for each_row in climate_csv:\n",
    "            list_of_climate.append(each_row)\n",
    "        \n",
    "        \n",
    "    while True:\n",
    "        random_number = random.randint(0,len(list_of_climate))\n",
    "        each_row = list_of_climate[random_number]\n",
    "\n",
    "        date += dt.timedelta(days=1)\n",
    "\n",
    "        each_row[\"date\"] = str(date.strftime('%Y-%m-%d'))\n",
    "        each_row[\"station\"] = 948703\n",
    "        each_row[\"windspeed_knots\"] = float(each_row[\"windspeed_knots\"])\n",
    "        each_row[\"max_wind_speed\"] = float(each_row[\"max_wind_speed\"])\n",
    "        each_row[\"latitude\"] = float(each_row[\"latitude\"])\n",
    "        each_row[\"longitude\"] = float(each_row[\"longitude\"])\n",
    "        each_row[\"relative_humidity\"] = float(each_row[\"relative_humidity\"])\n",
    "        each_row[\"air_temperature_celcius\"] = int(each_row[\"air_temperature_celcius\"])\n",
    "        each_row[\"GHI_w/m2\"] = int(each_row[\"GHI_w/m2\"])\n",
    "        each_row[\"producer\"] = \"producer_1\"\n",
    "\n",
    "        data = str(dumps(each_row))\n",
    "        publish_message(producer, topic, data)\n",
    "        sleep(10)"
   ]
  },
  {
   "cell_type": "code",
   "execution_count": null,
   "metadata": {},
   "outputs": [],
   "source": []
  }
 ],
 "metadata": {
  "kernelspec": {
   "display_name": "Python 3",
   "language": "python",
   "name": "python3"
  },
  "language_info": {
   "codemirror_mode": {
    "name": "ipython",
    "version": 3
   },
   "file_extension": ".py",
   "mimetype": "text/x-python",
   "name": "python",
   "nbconvert_exporter": "python",
   "pygments_lexer": "ipython3",
   "version": "3.8.3"
  }
 },
 "nbformat": 4,
 "nbformat_minor": 4
}
