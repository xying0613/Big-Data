{
 "cells": [
  {
   "cell_type": "markdown",
   "metadata": {},
   "source": [
    "Name: Haw Xiao Ying <br>Student ID: 29797918 <br>Email: xhaw0001@student.monash.edu"
   ]
  },
  {
   "cell_type": "markdown",
   "metadata": {},
   "source": [
    "# Assignment Part B"
   ]
  },
  {
   "cell_type": "markdown",
   "metadata": {},
   "source": [
    "## Task 1(c)"
   ]
  },
  {
   "cell_type": "code",
   "execution_count": null,
   "metadata": {},
   "outputs": [],
   "source": [
    "from time import sleep\n",
    "from json import dumps\n",
    "from kafka import KafkaProducer\n",
    "import random, csv\n",
    "import datetime as dt\n",
    "\n",
    " \n",
    "def publish_message(producer_instance, topic_name, data):\n",
    "    try:\n",
    "        key_bytes = bytes(\"producer_3\", encoding='utf-8')\n",
    "        value_bytes = bytes(data, encoding='utf-8')\n",
    "        producer_instance.send(topic_name, value=value_bytes, key=key_bytes)\n",
    "        print('Message published successfully. ' + data)\n",
    "    except Exception as ex:\n",
    "        print('Exception in publishing message.')\n",
    "        print(str(ex))\n",
    "        \n",
    "\n",
    "        \n",
    "def connect_kafka_producer():\n",
    "    _producer = None\n",
    "    try:\n",
    "        _producer = KafkaProducer(bootstrap_servers=['127.0.0.1:9092'], api_version=(0, 10))\n",
    "    except Exception as ex:\n",
    "        print('Exception while connecting Kafka.')\n",
    "        print(str(ex))\n",
    "    finally:\n",
    "        return _producer\n",
    "    \n",
    "\n",
    "    \n",
    "if __name__ == '__main__':\n",
    "   \n",
    "    topic = 'assignment'\n",
    "    print('Publishing records..')\n",
    "    producer = connect_kafka_producer()\n",
    "    \n",
    "    list_of_terra = []\n",
    "    hotspot_terra_streaming_filepath = '/home/student/Downloads/Assignment/hotspot_TERRA_streaming.csv'\n",
    "    with open(hotspot_terra_streaming_filepath) as file:\n",
    "        hotspot_terra_csv = csv.DictReader(file)\n",
    "        for each_row in hotspot_terra_csv:\n",
    "            list_of_terra.append(each_row)\n",
    "    \n",
    "    time = ['T00:00:00', 'T04:48:00', 'T09:36:00', 'T14:24:00', 'T19:12:00']\n",
    "    counter = 0\n",
    "            \n",
    "    while True:\n",
    "        random_number = random.randint(0,len(list_of_terra))\n",
    "        each_row = list_of_terra[random_number]\n",
    "\n",
    "        each_row[\"latitude\"] = float(each_row[\"latitude\"])\n",
    "        each_row[\"longitude\"] = float(each_row[\"longitude\"])\n",
    "        each_row[\"confidence\"] = int(each_row[\"confidence\"])\n",
    "        each_row[\"surface_temperature_celcius\"] = int(each_row[\"surface_temperature_celcius\"])\n",
    "        each_row[\"producer\"] = \"producer_3\"\n",
    "        \n",
    "        if counter == 5:\n",
    "            counter = 0\n",
    "        \n",
    "        each_row[\"time\"] = time[counter]\n",
    "\n",
    "        data = str(dumps(each_row))\n",
    "        publish_message(producer, topic, data)\n",
    "        counter += 1\n",
    "        \n",
    "        sleep(2)"
   ]
  },
  {
   "cell_type": "code",
   "execution_count": null,
   "metadata": {},
   "outputs": [],
   "source": []
  }
 ],
 "metadata": {
  "kernelspec": {
   "display_name": "Python 3",
   "language": "python",
   "name": "python3"
  },
  "language_info": {
   "codemirror_mode": {
    "name": "ipython",
    "version": 3
   },
   "file_extension": ".py",
   "mimetype": "text/x-python",
   "name": "python",
   "nbconvert_exporter": "python",
   "pygments_lexer": "ipython3",
   "version": "3.8.3"
  }
 },
 "nbformat": 4,
 "nbformat_minor": 2
}
